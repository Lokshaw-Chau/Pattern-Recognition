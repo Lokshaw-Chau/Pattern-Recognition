{
 "cells": [
  {
   "cell_type": "markdown",
   "metadata": {},
   "source": [
    "# 模式识别第一次作业\n",
    "## (距离分类器与聚类分析)"
   ]
  },
  {
   "cell_type": "markdown",
   "metadata": {},
   "source": [
    "<img src = assets\\38B1DEBF000EB9C361287787B6FEDF05.png width = 40% />"
   ]
  },
  {
   "cell_type": "markdown",
   "metadata": {},
   "source": [
    "<img src = assets\\Snipaste_2022-09-24_15-59-10.jpg width = 60% />\n"
   ]
  },
  {
   "cell_type": "code",
   "execution_count": 29,
   "metadata": {},
   "outputs": [],
   "source": [
    "import numpy as np\n",
    "import matplotlib.pyplot as plt\n",
    "import random\n",
    "MAX_NUM = 999999999"
   ]
  },
  {
   "cell_type": "code",
   "execution_count": 30,
   "metadata": {},
   "outputs": [],
   "source": [
    "# input\n",
    "points = np.array([[4,-2,1],\n",
    "                    [3,-1,1],\n",
    "                    [3,-3,1],\n",
    "                    [3,-2,1],\n",
    "                    [3,0,2],\n",
    "                    [3,-4,2],\n",
    "                    [1,-2,2],\n",
    "                    [0,-1,2]])"
   ]
  },
  {
   "cell_type": "code",
   "execution_count": 31,
   "metadata": {},
   "outputs": [],
   "source": [
    "def Euclidean_distance(x,y):\n",
    "    '''\n",
    "    calculate the Euclidean distance between vector x and y\n",
    "\n",
    "    Parameters:\n",
    "        x,y - input vector\n",
    "\n",
    "    Returns:\n",
    "        distance between vector x and y\n",
    "    '''\n",
    "    distance = 0\n",
    "    for i in range(x.shape[0]):\n",
    "        distance = distance + (x[i]-y[i])**2\n",
    "    return distance**0.5"
   ]
  },
  {
   "cell_type": "code",
   "execution_count": 32,
   "metadata": {},
   "outputs": [],
   "source": [
    "def nearest_neighbor(point,points):\n",
    "    #(1)最近邻分类\n",
    "    min_distance = MAX_NUM\n",
    "    label = 0\n",
    "    for i in range(points.shape[0]):\n",
    "        distance = Euclidean_distance(point,points[i])\n",
    "        if distance < min_distance:\n",
    "            label = points[i,2]\n",
    "            min_distance = distance\n",
    "    return label\n"
   ]
  },
  {
   "cell_type": "code",
   "execution_count": null,
   "metadata": {},
   "outputs": [],
   "source": []
  },
  {
   "cell_type": "code",
   "execution_count": 33,
   "metadata": {},
   "outputs": [],
   "source": [
    "def template_matching(point,points):\n",
    "    #(2)模板匹配\n",
    "    template_dict = {}\n",
    "    min_distance = MAX_NUM\n",
    "    for i in range(points.shape[0]):\n",
    "        if points[i,-1] in template_dict.keys():\n",
    "            template_dict[points[i,-1]] = np.row_stack((template_dict[points[i,-1]],points[i]))\n",
    "        else:\n",
    "            template_dict[points[i,-1]] = np.zeros((1,points[i].shape[0])) + points[i]\n",
    "    for i,key in enumerate(template_dict):\n",
    "        template = np.average(template_dict[key],axis=0)\n",
    "        distance = Euclidean_distance(point,template)\n",
    "        if distance < min_distance:\n",
    "            label = key\n",
    "            min_distance = distance\n",
    "    return label"
   ]
  },
  {
   "cell_type": "code",
   "execution_count": 34,
   "metadata": {},
   "outputs": [
    {
     "name": "stdout",
     "output_type": "stream",
     "text": [
      "The label of (0,0) is 2 in quiz(1)\n",
      "The label of (0,0) is 2 in quiz(3)\n"
     ]
    }
   ],
   "source": [
    "#(1)\n",
    "print(\"The label of (0,0) is {0} in quiz(1)\".format(nearest_neighbor(np.array([0,0]),points)))\n",
    "#(3)\n",
    "print(\"The label of (0,0) is {0} in quiz(3)\".format(template_matching(np.array([0,0]),points)))"
   ]
  },
  {
   "cell_type": "markdown",
   "metadata": {},
   "source": [
    "<img src = assets\\IMG_1336(20220925-215532).PNG width=30%>"
   ]
  },
  {
   "cell_type": "markdown",
   "metadata": {},
   "source": [
    "<img src = assets\\Snipaste_2022-09-24_17-44-05.jpg width=60%>"
   ]
  },
  {
   "cell_type": "code",
   "execution_count": 35,
   "metadata": {},
   "outputs": [],
   "source": [
    "points = np.array([[5,2],\n",
    "                  [1,2],\n",
    "                  [2,1],\n",
    "                  [6,2],\n",
    "                  [1,1],\n",
    "                  [3,1],\n",
    "                  [7,-1],\n",
    "                  [5,-1]])"
   ]
  },
  {
   "cell_type": "code",
   "execution_count": 36,
   "metadata": {},
   "outputs": [],
   "source": [
    "def sequential_clustering(points,theta):\n",
    "    numofcluster = 1\n",
    "    cluster_center = np.array([points[0]])\n",
    "    cluster_dic = {0:np.array([points[0]])}\n",
    "    for i in range(1,points.shape[0]):\n",
    "        min_dis = MAX_NUM\n",
    "        label = 0\n",
    "        for j in range(cluster_center.shape[0]):\n",
    "            distance = Euclidean_distance(cluster_center[j],points[i])\n",
    "            if distance < min_dis:\n",
    "                min_dis = distance\n",
    "                label = j\n",
    "        if min_dis < theta:\n",
    "            cluster_dic[label] = np.row_stack((cluster_dic[label],points[i]))\n",
    "            cluster_center[label] = np.average(cluster_dic[label],axis=0)\n",
    "        else:\n",
    "            cluster_dic[numofcluster]=np.array([points[i]])\n",
    "            numofcluster = numofcluster + 1\n",
    "            cluster_center = np.row_stack((cluster_center,points[i]))\n",
    "    return cluster_dic"
   ]
  },
  {
   "cell_type": "code",
   "execution_count": 37,
   "metadata": {},
   "outputs": [
    {
     "name": "stdout",
     "output_type": "stream",
     "text": [
      "{0: array([[ 5,  2],\n",
      "       [ 6,  2],\n",
      "       [ 7, -1],\n",
      "       [ 5, -1]]), 1: array([[1, 2],\n",
      "       [2, 1],\n",
      "       [1, 1],\n",
      "       [3, 1]])}\n"
     ]
    },
    {
     "data": {
      "image/png": "[encoded data removed]",
      "text/plain": [
       "<Figure size 432x288 with 1 Axes>"
      ]
     },
     "metadata": {
      "needs_background": "light"
     },
     "output_type": "display_data"
    }
   ],
   "source": [
    "seq_cluster_result = sequential_clustering(points,4)\n",
    "print(seq_cluster_result)\n",
    "for i,k in enumerate(seq_cluster_result):\n",
    "    x = seq_cluster_result[k][:,0]\n",
    "    y = seq_cluster_result[k][:,1]\n",
    "    plt.scatter(x,y)\n",
    "plt.show()"
   ]
  },
  {
   "cell_type": "code",
   "execution_count": 38,
   "metadata": {},
   "outputs": [],
   "source": [
    "def k_means(points,K):\n",
    "    seed = random.sample(range(1,points.shape[0]),K)\n",
    "    cluster_center = np.array([points[seed[0]]])\n",
    "    cluster_dic = {}\n",
    "    old_cluster = {}\n",
    "    flag = 0\n",
    "    for i in range(1,K):\n",
    "        cluster_center = np.row_stack((cluster_center,points[seed[i]]))\n",
    "        #cluster_dic[i] = [points[seed[i]]]\n",
    "    while 1:\n",
    "        for i in range(points.shape[0]):\n",
    "            min_dis = MAX_NUM\n",
    "            label = 0\n",
    "            for j in range(cluster_center.shape[0]):\n",
    "                distance = Euclidean_distance(cluster_center[j],points[i])\n",
    "                if distance < min_dis:\n",
    "                    min_dis = distance\n",
    "                    label = j\n",
    "            if label not in cluster_dic.keys():\n",
    "                cluster_dic[label] = np.array([points[i]])\n",
    "            else:\n",
    "                cluster_dic[label] = np.row_stack((cluster_dic[label],points[i]))\n",
    "            if any(cluster_center[label] != np.average(cluster_dic[label],axis=0)):\n",
    "                flag = 1\n",
    "            cluster_center[label] = np.average(cluster_dic[label],axis=0)\n",
    "        #print(cluster_dic==old_cluster)\n",
    "        if flag == 1:\n",
    "            break\n",
    "        else:\n",
    "            old_cluster = cluster_dic\n",
    "            cluster_dic = {}\n",
    "    return cluster_dic"
   ]
  },
  {
   "cell_type": "code",
   "execution_count": 39,
   "metadata": {},
   "outputs": [
    {
     "name": "stdout",
     "output_type": "stream",
     "text": [
      "{1: array([[ 5,  2],\n",
      "       [ 6,  2],\n",
      "       [ 7, -1],\n",
      "       [ 5, -1]]), 0: array([[1, 2],\n",
      "       [2, 1],\n",
      "       [1, 1],\n",
      "       [3, 1]])}\n"
     ]
    },
    {
     "data": {
      "image/png": "[encoded data removed]",
      "text/plain": [
       "<Figure size 432x288 with 1 Axes>"
      ]
     },
     "metadata": {
      "needs_background": "light"
     },
     "output_type": "display_data"
    }
   ],
   "source": [
    "kmeans_result = k_means(points,2)\n",
    "print(kmeans_result)\n",
    "for i,k in enumerate(kmeans_result):\n",
    "    x = kmeans_result[k][:,0]\n",
    "    y = kmeans_result[k][:,1]\n",
    "    plt.scatter(x,y)\n",
    "plt.show()"
   ]
  },
  {
   "cell_type": "code",
   "execution_count": 40,
   "metadata": {},
   "outputs": [],
   "source": [
    "def hierarchical_cluster(points,num):\n",
    "    cluster_dic = {}\n",
    "    num_of_cluster = points.shape[0]\n",
    "    cluster_center = {}\n",
    "    for i in range(points.shape[0]):\n",
    "        cluster_dic[i] = np.array([points[i]])\n",
    "        cluster_center[i] = points[i]\n",
    "    while num_of_cluster > num:\n",
    "        min_dis = MAX_NUM\n",
    "        for i,k1 in enumerate(cluster_center):\n",
    "            for j,k2 in enumerate(cluster_center):\n",
    "                if i < j:\n",
    "                    #print(cluster_center)\n",
    "                    dis = Euclidean_distance(cluster_center[k1],cluster_center[k2])\n",
    "                    if dis < min_dis:\n",
    "                        merge_label = [k1,k2]\n",
    "                        min_dis = dis\n",
    "        #print(cluster_center)\n",
    "        #print(merge_label)\n",
    "        cluster_dic[merge_label[0]] = np.row_stack((cluster_dic[merge_label[0]],cluster_dic.pop(merge_label[1])))\n",
    "        num_of_cluster = num_of_cluster-1\n",
    "        cluster_center = {}\n",
    "        for i,k in enumerate(cluster_dic):\n",
    "            cluster_center[k] = np.average(cluster_dic[k],axis=0)\n",
    "        \n",
    "    return cluster_dic\n",
    "\n",
    "    "
   ]
  },
  {
   "cell_type": "code",
   "execution_count": 41,
   "metadata": {},
   "outputs": [
    {
     "name": "stdout",
     "output_type": "stream",
     "text": [
      "{0: array([[ 5,  2],\n",
      "       [ 6,  2],\n",
      "       [ 7, -1],\n",
      "       [ 5, -1]]), 1: array([[1, 2],\n",
      "       [1, 1],\n",
      "       [2, 1],\n",
      "       [3, 1]])}\n"
     ]
    },
    {
     "data": {
      "image/png": "[encoded data removed]",
      "text/plain": [
       "<Figure size 432x288 with 1 Axes>"
      ]
     },
     "metadata": {
      "needs_background": "light"
     },
     "output_type": "display_data"
    }
   ],
   "source": [
    "hierarchical_cluster_result = hierarchical_cluster(points,2)\n",
    "print(hierarchical_cluster_result)\n",
    "for i,k in enumerate(hierarchical_cluster_result):\n",
    "    x = hierarchical_cluster_result[k][:,0]\n",
    "    y = hierarchical_cluster_result[k][:,1]\n",
    "    plt.scatter(x,y)\n",
    "plt.show()"
   ]
  },
  {
   "cell_type": "code",
   "execution_count": 57,
   "metadata": {},
   "outputs": [
    {
     "name": "stdout",
     "output_type": "stream",
     "text": [
      "1.4142135623730951\n"
     ]
    }
   ],
   "source": [
    "print(Euclidean_distance(np.array([1,1]),np.array([2,2])))"
   ]
  },
  {
   "cell_type": "code",
   "execution_count": 66,
   "metadata": {},
   "outputs": [],
   "source": [
    "def dunn(cluster_dic):\n",
    "    max_diam = 0\n",
    "    min_dis = MAX_NUM\n",
    "    for i,k1 in enumerate(cluster_dic):\n",
    "        diam = 0\n",
    "        for a in range(cluster_dic[i].shape[0]):\n",
    "            for b in range(cluster_dic[i].shape[0]):\n",
    "                if a > b:\n",
    "                    d = Euclidean_distance(cluster_dic[i][a],cluster_dic[i][b])\n",
    "                    if d > diam:\n",
    "                        diam = d\n",
    "        if diam > max_diam:\n",
    "            max_diam = diam\n",
    "        for j,k2 in enumerate(cluster_dic):\n",
    "            if i > j:\n",
    "                dis = MAX_NUM\n",
    "                for a in range(cluster_dic[i].shape[0]):\n",
    "                    for b in range(cluster_dic[j].shape[0]):\n",
    "                        d = Euclidean_distance(cluster_dic[i][a],cluster_dic[j][b])\n",
    "                        if d < dis:\n",
    "                            dis = d\n",
    "                if dis < min_dis:\n",
    "                    min_dis = dis\n",
    "    #print(min_dis, max_diam)\n",
    "    return min_dis/max_diam\n",
    "\n",
    "def Davies_Bouldin(cluster_dic):\n",
    "    dispertion_within = np.zeros(len(cluster_dic))\n",
    "    max_similarity = np.zeros(len(cluster_dic))\n",
    "    indice = 0\n",
    "    for i,k in enumerate(cluster_dic):\n",
    "        d = 0\n",
    "        cluster_center = np.average(cluster_dic[k],axis=0)\n",
    "        for a in range(cluster_dic[k].shape[0]):\n",
    "            d = d+Euclidean_distance(cluster_dic[k][a],cluster_center)**2\n",
    "        #print(cluster_center,d)\n",
    "        dispertion_within[i] = (d/cluster_dic[k].shape[0])**0.5\n",
    "    for i,k1 in enumerate(cluster_dic):\n",
    "        for j,k2 in enumerate(cluster_dic):\n",
    "            if i != j:\n",
    "                cluster_center1 = np.average(cluster_dic[k1],axis=0)\n",
    "                cluster_center2 = np.average(cluster_dic[k2],axis=0)\n",
    "                dispertion_between = Euclidean_distance(cluster_center1,cluster_center2)\n",
    "                similarity = (dispertion_within[i]+dispertion_within[j])/dispertion_between\n",
    "                #print(max_similarity,cluster_center1,cluster_center2)\n",
    "                if similarity > max_similarity[i]:\n",
    "                    max_similarity[i] = similarity\n",
    "    #print(dispertion_within)\n",
    "    #print(max_similarity)\n",
    "    return np.average(max_similarity)"
   ]
  },
  {
   "cell_type": "code",
   "execution_count": 67,
   "metadata": {},
   "outputs": [
    {
     "name": "stdout",
     "output_type": "stream",
     "text": [
      "sequential cluster:\n",
      "dunn:0.6201736729460423,Davies_Bouldin:0.6509877005287489\n",
      "hierarchy cluster:\n",
      "dunn:0.6201736729460423,Davies_Bouldin:0.6509877005287489\n",
      "k-means:\n",
      "dunn:0.6201736729460423,Davies_Bouldin:0.6509877005287489\n"
     ]
    }
   ],
   "source": [
    "print(\"sequential cluster:\\ndunn:{0},Davies_Bouldin:{1}\".format(dunn(seq_cluster_result),Davies_Bouldin(seq_cluster_result)))\n",
    "print(\"hierarchy cluster:\\ndunn:{0},Davies_Bouldin:{1}\".format(dunn(hierarchical_cluster_result),Davies_Bouldin(hierarchical_cluster_result)))\n",
    "print(\"k-means:\\ndunn:{0},Davies_Bouldin:{1}\".format(dunn(kmeans_result),Davies_Bouldin(kmeans_result)))"
   ]
  },
  {
   "cell_type": "markdown",
   "metadata": {},
   "source": [
    "![quiz](\\assets\\Snipaste_2022-09-25_12-29-42.jpg)"
   ]
  },
  {
   "cell_type": "code",
   "execution_count": 44,
   "metadata": {},
   "outputs": [],
   "source": [
    "u1 = [-1,-1]\n",
    "sigma1 = [[1,0.5],[0.5,1]]\n",
    "u2 = [6,2]\n",
    "sigma2 = [[1,0],[0,1]]\n",
    "u3 = [0.5,7]\n",
    "sigma3 = [[1,-0.5],[-0.5,1]]\n",
    "points = np.random.multivariate_normal(u1,sigma1,200)\n",
    "points = np.row_stack((points,np.random.multivariate_normal(u2,sigma2,200)))\n",
    "points = np.row_stack((points,np.random.multivariate_normal(u3,sigma3,200)))"
   ]
  },
  {
   "cell_type": "code",
   "execution_count": 53,
   "metadata": {},
   "outputs": [
    {
     "data": {
      "image/png": "[encoded data removed]",
      "text/plain": [
       "<Figure size 432x288 with 1 Axes>"
      ]
     },
     "metadata": {
      "needs_background": "light"
     },
     "output_type": "display_data"
    }
   ],
   "source": [
    "cluster_result = k_means(points,3)\n",
    "#print(cluster_result)\n",
    "for i,k in enumerate(cluster_result):\n",
    "    x = cluster_result[k][:,0]\n",
    "    y = cluster_result[k][:,1]\n",
    "    plt.scatter(x,y)\n",
    "plt.show()"
   ]
  },
  {
   "cell_type": "code",
   "execution_count": 54,
   "metadata": {},
   "outputs": [
    {
     "data": {
      "image/png": "[encoded data removed]",
      "text/plain": [
       "<Figure size 432x288 with 1 Axes>"
      ]
     },
     "metadata": {
      "needs_background": "light"
     },
     "output_type": "display_data"
    }
   ],
   "source": [
    "J = np.zeros(10)\n",
    "for j in range(2,12):\n",
    "    cluster_result = k_means(points,j)\n",
    "    for i,k in enumerate(cluster_result):\n",
    "        d = 0\n",
    "        cluster_center = np.average(cluster_result[k],axis=0)\n",
    "        for a in range(cluster_result[k].shape[0]):\n",
    "            d = d+Euclidean_distance(cluster_result[k][a],cluster_center)**2\n",
    "    J[j-2] = d/600\n",
    "plt.plot(range(2,12),J)\n",
    "plt.show()"
   ]
  },
  {
   "cell_type": "markdown",
   "metadata": {},
   "source": [
    "由上图，根据类内距离原则应选择K为3"
   ]
  }
 ],
 "metadata": {
  "kernelspec": {
   "display_name": "Python 3.8.8 ('base')",
   "language": "python",
   "name": "python3"
  },
  "language_info": {
   "codemirror_mode": {
    "name": "ipython",
    "version": 3
   },
   "file_extension": ".py",
   "mimetype": "text/x-python",
   "name": "python",
   "nbconvert_exporter": "python",
   "pygments_lexer": "ipython3",
   "version": "3.8.8"
  },
  "orig_nbformat": 4,
  "vscode": {
   "interpreter": {
    "hash": "760aac0b81ef3b253bab4cf7a0d06ed68840995117a5ddfd3261bd4c6a6cc1dc"
   }
  }
 },
 "nbformat": 4,
 "nbformat_minor": 2
}
