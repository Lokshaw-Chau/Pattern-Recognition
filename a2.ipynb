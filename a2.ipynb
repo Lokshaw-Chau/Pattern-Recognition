{
 "cells": [
  {
   "cell_type": "code",
   "execution_count": 1,
   "metadata": {},
   "outputs": [],
   "source": [
    "import numpy as np\n",
    "import matplotlib.pyplot as plt"
   ]
  },
  {
   "cell_type": "code",
   "execution_count": 18,
   "metadata": {},
   "outputs": [],
   "source": [
    "c1 = np.array([[1,2,1],\n",
    "               [2,3,1],\n",
    "               [3,3,1],\n",
    "               [4,5,1],\n",
    "               [5,5,1]])\n",
    "c2 = np.array([[1,0,2],\n",
    "               [2,1,2],\n",
    "               [3,1,2],\n",
    "               [3,2,2],\n",
    "               [5,3,2],\n",
    "               [6,5,2]])"
   ]
  },
  {
   "cell_type": "code",
   "execution_count": 111,
   "metadata": {},
   "outputs": [
    {
     "name": "stdout",
     "output_type": "stream",
     "text": [
      "[0.63277412 5.14904406]\n",
      "[[ 2.02722413]\n",
      " [ 0.61357268]\n",
      " [-0.07331818]\n",
      " [-2.21373021]\n",
      " [-2.90062107]\n",
      " [ 3.48074529]\n",
      " [ 2.06709384]\n",
      " [ 1.38020298]\n",
      " [ 0.6534424 ]\n",
      " [-1.44709991]\n",
      " [-3.58751194]] [[-0.68689087]\n",
      " [-0.72676058]]\n"
     ]
    }
   ],
   "source": [
    "c = np.vstack((c1,c2))[:,:-1]\n",
    "\n",
    "def PCA(sample, dimension):\n",
    "    mean = np.mean(sample,axis=0)\n",
    "    data = sample-mean\n",
    "    cov = np.cov(sample.T)\n",
    "    eigenValue, eigenVec = np.linalg.eig(cov)\n",
    "    print(eigenValue)\n",
    "    selectedVec = eigenVec[:,-dimension:]\n",
    "    for i in range(dimension):\n",
    "        selectedVec[:,i] = selectedVec[:,i]/np.linalg.norm(selectedVec[:,i])\n",
    "    out = np.dot(data, selectedVec)\n",
    "    return out,selectedVec\n",
    "\n",
    "sampleAfter,selectedVec = PCA(c,1)\n",
    "print(sampleAfter,selectedVec)"
   ]
  },
  {
   "cell_type": "code",
   "execution_count": 105,
   "metadata": {},
   "outputs": [
    {
     "data": {
      "text/plain": [
       "<function matplotlib.pyplot.show(close=None, block=None)>"
      ]
     },
     "execution_count": 105,
     "metadata": {},
     "output_type": "execute_result"
    },
    {
     "data": {
      "image/png": "[encoded data removed]",
      "text/plain": [
       "<Figure size 432x288 with 1 Axes>"
      ]
     },
     "metadata": {
      "needs_background": "light"
     },
     "output_type": "display_data"
    }
   ],
   "source": [
    "x1 = c1[:,0]\n",
    "y1 = c1[:,1]\n",
    "plt.scatter(x1,y1)\n",
    "x2 = c2[:,0]\n",
    "y2 = c2[:,1]\n",
    "plt.scatter(x2,y2)\n",
    "mean = np.mean(c,axis=0)\n",
    "x1 = mean[0]\n",
    "y1 = mean[1]\n",
    "plt.scatter([x1,x1+selectedVec[0]],[y1,y1+selectedVec[1]])\n",
    "plt.plot([x1,x1+selectedVec[0]],[y1,y1+selectedVec[1]],linestyle=\"dashed\",color=\"red\")\n",
    "plt.show"
   ]
  },
  {
   "cell_type": "code",
   "execution_count": 109,
   "metadata": {},
   "outputs": [
    {
     "name": "stdout",
     "output_type": "stream",
     "text": [
      "[[-0.90932634]\n",
      " [-0.99011649]\n",
      " [-0.32455956]\n",
      " [-1.15169679]\n",
      " [-0.48613985]\n",
      " [ 0.58336782]\n",
      " [ 0.50257767]\n",
      " [ 1.16813461]\n",
      " [ 0.42178753]\n",
      " [ 1.00655431]\n",
      " [ 0.17941708]]\n"
     ]
    }
   ],
   "source": [
    "c = np.vstack((c1,c2))\n",
    "\n",
    "def FDA(sample,dimension):\n",
    "    lableSampleDic = {}\n",
    "    lableMuDic = {}\n",
    "    numEveryClass = {}\n",
    "    mu = np.zeros(sample.shape[1]-1)\n",
    "    S_w = np.zeros((sample.shape[1]-1,sample.shape[1]-1))\n",
    "    S_b = np.zeros((sample.shape[1]-1,sample.shape[1]-1))\n",
    "    for i in range(sample.shape[0]):\n",
    "        if sample[i,-1] not in lableSampleDic.keys():\n",
    "            lableSampleDic[sample[i,-1]] = np.array([sample[i,:-1]])\n",
    "        else:\n",
    "            lableSampleDic[sample[i,-1]] = np.row_stack((lableSampleDic[sample[i,-1]],sample[i,:-1]))\n",
    "    for i,k in enumerate(lableSampleDic):\n",
    "        lableMuDic[k] = np.mean(lableSampleDic[k],axis=0)\n",
    "        for j in range(lableSampleDic[k].shape[0]):\n",
    "            S_w = S_w + np.matmul(np.array([lableSampleDic[k][j,:]-lableMuDic[k]]).T,np.array([lableSampleDic[k][j,:]-lableMuDic[k]]))\n",
    "        mu = mu + lableMuDic[k]\n",
    "    mu = mu/len(lableMuDic)\n",
    "    for i,k in enumerate(lableMuDic):\n",
    "        S_b = S_b + lableSampleDic[k].shape[0]*np.matmul(np.array([lableMuDic[k]-mu]).T,np.array([lableMuDic[k]-mu]))\n",
    "    #print(S_b)\n",
    "    eigenValue, eigenVec = np.linalg.eig(np.matmul(np.linalg.inv(S_w),S_b))\n",
    "    selectedVec = eigenVec[:,-dimension:]\n",
    "    for i in range(dimension):\n",
    "        selectedVec[:,i] = selectedVec[:,i]/np.linalg.norm(selectedVec[:,i])\n",
    "    #print(selectedVec)\n",
    "\n",
    "    data = sample[:,:-1] - np.mean(sample[:,:-1],axis=0)\n",
    "    out = np.dot(data, selectedVec)\n",
    "    \n",
    "    \n",
    "    return out,selectedVec\n",
    "\n",
    "out,selectedVec = FDA(c,1)\n",
    "print(out)"
   ]
  },
  {
   "cell_type": "code",
   "execution_count": 110,
   "metadata": {},
   "outputs": [
    {
     "data": {
      "image/png": "[encoded data removed]",
      "text/plain": [
       "<Figure size 432x288 with 1 Axes>"
      ]
     },
     "metadata": {
      "needs_background": "light"
     },
     "output_type": "display_data"
    }
   ],
   "source": [
    "x1 = c1[:,0]\n",
    "y1 = c1[:,1]\n",
    "plt.scatter(x1,y1)\n",
    "x2 = c2[:,0]\n",
    "y2 = c2[:,1]\n",
    "plt.scatter(x2,y2)\n",
    "mean = np.mean(c,axis=0)\n",
    "plt.scatter([mean[0],mean[0]+selectedVec[0]],[mean[1],mean[1]+selectedVec[1]])\n",
    "plt.plot([mean[0],mean[0]+selectedVec[0]],[mean[1],mean[1]+selectedVec[1]],linestyle=\"dashed\",color=\"red\")\n",
    "plt.show()"
   ]
  }
 ],
 "metadata": {
  "kernelspec": {
   "display_name": "Python 3.8.8 ('base')",
   "language": "python",
   "name": "python3"
  },
  "language_info": {
   "codemirror_mode": {
    "name": "ipython",
    "version": 3
   },
   "file_extension": ".py",
   "mimetype": "text/x-python",
   "name": "python",
   "nbconvert_exporter": "python",
   "pygments_lexer": "ipython3",
   "version": "3.8.8"
  },
  "orig_nbformat": 4,
  "vscode": {
   "interpreter": {
    "hash": "760aac0b81ef3b253bab4cf7a0d06ed68840995117a5ddfd3261bd4c6a6cc1dc"
   }
  }
 },
 "nbformat": 4,
 "nbformat_minor": 2
}
